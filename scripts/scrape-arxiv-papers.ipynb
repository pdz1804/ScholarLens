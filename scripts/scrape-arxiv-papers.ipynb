{
 "cells": [
  {
   "cell_type": "code",
   "execution_count": 1,
   "metadata": {
    "_cell_guid": "b1076dfc-b9ad-4769-8c92-a6c4dae69d19",
    "_uuid": "8f2839f25d086af736a60e9eeb907d3b93b6e0e5",
    "execution": {
     "iopub.execute_input": "2025-08-08T01:56:18.254998Z",
     "iopub.status.busy": "2025-08-08T01:56:18.254776Z",
     "iopub.status.idle": "2025-08-08T01:56:27.068574Z",
     "shell.execute_reply": "2025-08-08T01:56:27.067353Z",
     "shell.execute_reply.started": "2025-08-08T01:56:18.254976Z"
    },
    "trusted": true
   },
   "outputs": [
    {
     "name": "stdout",
     "output_type": "stream",
     "text": [
      "/kaggle/input/arxiv-cs-2025-ids/arxiv_cs_2025_sample_ids.csv\n",
      "Collecting selectolax\n",
      "  Downloading selectolax-0.3.32-cp311-cp311-manylinux2014_x86_64.manylinux_2_17_x86_64.manylinux_2_28_x86_64.whl.metadata (6.2 kB)\n",
      "Downloading selectolax-0.3.32-cp311-cp311-manylinux2014_x86_64.manylinux_2_17_x86_64.manylinux_2_28_x86_64.whl (5.7 MB)\n",
      "\u001b[2K   \u001b[90m━━━━━━━━━━━━━━━━━━━━━━━━━━━━━━━━━━━━━━━━\u001b[0m \u001b[32m5.7/5.7 MB\u001b[0m \u001b[31m41.5 MB/s\u001b[0m eta \u001b[36m0:00:00\u001b[0m00:01\u001b[0m00:01\u001b[0m\n",
      "\u001b[?25hInstalling collected packages: selectolax\n",
      "Successfully installed selectolax-0.3.32\n"
     ]
    }
   ],
   "source": [
    "# This Python 3 environment comes with many helpful analytics libraries installed\n",
    "# It is defined by the kaggle/python Docker image: https://github.com/kaggle/docker-python\n",
    "# For example, here's several helpful packages to load\n",
    "\n",
    "import numpy as np # linear algebra\n",
    "import pandas as pd # data processing, CSV file I/O (e.g. pd.read_csv)\n",
    "\n",
    "# Input data files are available in the read-only \"../input/\" directory\n",
    "# For example, running this (by clicking run or pressing Shift+Enter) will list all files under the input directory\n",
    "\n",
    "import os\n",
    "for dirname, _, filenames in os.walk('/kaggle/input'):\n",
    "    for filename in filenames:\n",
    "        print(os.path.join(dirname, filename))\n",
    "\n",
    "# You can write up to 20GB to the current directory (/kaggle/working/) that gets preserved as output when you create a version using \"Save & Run All\" \n",
    "# You can also write temporary files to /kaggle/temp/, but they won't be saved outside of the current session\n",
    "\n",
    "!pip install selectolax"
   ]
  },
  {
   "cell_type": "code",
   "execution_count": 2,
   "metadata": {
    "execution": {
     "iopub.execute_input": "2025-08-08T01:56:27.072408Z",
     "iopub.status.busy": "2025-08-08T01:56:27.071533Z",
     "iopub.status.idle": "2025-08-08T01:56:27.319896Z",
     "shell.execute_reply": "2025-08-08T01:56:27.318941Z",
     "shell.execute_reply.started": "2025-08-08T01:56:27.072370Z"
    },
    "trusted": true
   },
   "outputs": [],
   "source": [
    "from selectolax.parser import HTMLParser\n",
    "import time\n",
    "import pandas as pd\n",
    "from tqdm import tqdm\n",
    "import re\n",
    "import requests"
   ]
  },
  {
   "cell_type": "code",
   "execution_count": null,
   "metadata": {
    "execution": {
     "iopub.execute_input": "2025-08-08T01:56:27.321297Z",
     "iopub.status.busy": "2025-08-08T01:56:27.320968Z",
     "iopub.status.idle": "2025-08-08T01:56:27.326421Z",
     "shell.execute_reply": "2025-08-08T01:56:27.325472Z",
     "shell.execute_reply.started": "2025-08-08T01:56:27.321264Z"
    },
    "trusted": true
   },
   "outputs": [],
   "source": [
    "VALID_SHOW_VALUES = [25, 50, 100, 250, 500, 1000, 2000]\n",
    "\n",
    "HEADERS = {\n",
    "        \"User-Agent\": \"Mozilla/5.0 (Windows NT 10.0; Win64; x64) \"\n",
    "                      \"AppleWebKit/537.36 (KHTML, like Gecko) \"\n",
    "                      \"Chrome/115.0.0.0 Safari/537.36\",\n",
    "        \"Accept-Language\": \"en-US,en;q=0.9\",\n",
    "    }\n"
   ]
  },
  {
   "cell_type": "code",
   "execution_count": null,
   "metadata": {
    "execution": {
     "iopub.execute_input": "2025-08-08T01:56:27.327722Z",
     "iopub.status.busy": "2025-08-08T01:56:27.327381Z",
     "iopub.status.idle": "2025-08-08T01:56:27.345479Z",
     "shell.execute_reply": "2025-08-08T01:56:27.344586Z",
     "shell.execute_reply.started": "2025-08-08T01:56:27.327685Z"
    },
    "trusted": true
   },
   "outputs": [],
   "source": [
    "import unicodedata\n",
    "\n",
    "def strip_accents(text: str) -> str:\n",
    "    \"\"\"\n",
    "    Converts accented characters to their closest ASCII equivalent.\n",
    "    Example: 'Gérard' -> 'Gerard'\n",
    "    \"\"\"\n",
    "    if not isinstance(text, str):\n",
    "        return text\n",
    "    # Normalize to NFKD form and strip diacritics\n",
    "    return unicodedata.normalize('NFKD', text).encode('ascii', 'ignore').decode('ascii')\n"
   ]
  },
  {
   "cell_type": "code",
   "execution_count": 5,
   "metadata": {
    "execution": {
     "iopub.execute_input": "2025-08-08T01:56:27.346754Z",
     "iopub.status.busy": "2025-08-08T01:56:27.346472Z",
     "iopub.status.idle": "2025-08-08T01:56:27.365292Z",
     "shell.execute_reply": "2025-08-08T01:56:27.364374Z",
     "shell.execute_reply.started": "2025-08-08T01:56:27.346729Z"
    },
    "trusted": true
   },
   "outputs": [],
   "source": [
    "def extract_arxiv_metadata(paper_url: str, paper_id: str, domain: str = \"cs\") -> dict:\n",
    "    \"\"\"\n",
    "    Scrapes metadata from a single arXiv abstract page.\n",
    "\n",
    "    Returns:\n",
    "        dict: Paper metadata with error handling for missing fields.\n",
    "    \"\"\"\n",
    "    try:\n",
    "        response = requests.get(paper_url, headers=HEADERS)\n",
    "        response.raise_for_status()\n",
    "        html = HTMLParser(response.text)\n",
    "        content = html.css_first(\"div#content-inner\")\n",
    "\n",
    "        # Date\n",
    "        try:\n",
    "            date_text = content.css_first('div.dateline').text(strip=True)\n",
    "            date_submitted = date_text.replace('[Submitted on ', '').replace(']', '')\n",
    "        except Exception:\n",
    "            date_submitted = None\n",
    "\n",
    "        # Title\n",
    "        try:\n",
    "            title = content.css_first('h1.title').text(strip=True).replace('Title:', '').strip()\n",
    "        except Exception:\n",
    "            title = None\n",
    "\n",
    "        # Authors\n",
    "        try:\n",
    "            authors = content.css_first(\"div.authors\").text(strip=True).replace('Authors:', '').strip()\n",
    "        except Exception:\n",
    "            authors = None\n",
    "\n",
    "        # Abstract\n",
    "        try:\n",
    "            abstract = content.css_first(\"blockquote.abstract\").text(strip=True).replace('Abstract:', '').strip()\n",
    "        except Exception:\n",
    "            abstract = None\n",
    "\n",
    "        # Subjects\n",
    "        try:\n",
    "            raw_subjects = content.css_first('td.subjects').text(strip=True)\n",
    "            subjects = [s.strip().rsplit('(', 1)[0].strip() for s in raw_subjects.split(';')]\n",
    "        except Exception:\n",
    "            subjects = []\n",
    "\n",
    "        primary_subject = subjects[0] if len(subjects) != 0 else None\n",
    "\n",
    "        pdf_url = paper_url.replace('abs', 'pdf').strip()\n",
    "\n",
    "        return {\n",
    "            'Paper Title': title,\n",
    "            'Paper ID': paper_id,\n",
    "            'Authors': authors,\n",
    "            'Abstract': abstract,\n",
    "            'Domain': domain,\n",
    "            'Primary Subject': primary_subject,\n",
    "            'Subjects': subjects,\n",
    "            'Date Submitted': date_submitted,\n",
    "            'Abstract URL': paper_url,\n",
    "            'PDF URL': pdf_url\n",
    "        }\n",
    "\n",
    "    except requests.RequestException as e:\n",
    "        print(f\"Request failed for {paper_url}: {e}\")\n",
    "        return {}"
   ]
  },
  {
   "cell_type": "code",
   "execution_count": 6,
   "metadata": {
    "execution": {
     "iopub.execute_input": "2025-08-08T01:56:27.366618Z",
     "iopub.status.busy": "2025-08-08T01:56:27.366316Z",
     "iopub.status.idle": "2025-08-08T01:56:27.388126Z",
     "shell.execute_reply": "2025-08-08T01:56:27.387301Z",
     "shell.execute_reply.started": "2025-08-08T01:56:27.366593Z"
    },
    "trusted": true
   },
   "outputs": [],
   "source": [
    "def scrape_arxiv_metadata_from_df(df: pd.DataFrame, domain: str = \"cs\") -> pd.DataFrame:\n",
    "    results = []\n",
    "    \n",
    "    for _, row in tqdm(df.iterrows(), total=len(df), desc=\"Scraping arXiv metadata\"):\n",
    "        paper_id = row['paper_id']\n",
    "        abstract_url = row['abstract_url']\n",
    "\n",
    "        metadata = extract_arxiv_metadata(abstract_url, paper_id, domain=domain)\n",
    "\n",
    "        if metadata:\n",
    "            # Apply accent stripping to selected fields\n",
    "            for field in ['Authors', 'Paper Title']:\n",
    "                if field in metadata and metadata[field]:\n",
    "                    metadata[field] = strip_accents(metadata[field])\n",
    "            results.append(metadata)\n",
    "\n",
    "            time.sleep(0.5)\n",
    "\n",
    "    return pd.DataFrame(results)"
   ]
  },
  {
   "cell_type": "code",
   "execution_count": 7,
   "metadata": {
    "execution": {
     "iopub.execute_input": "2025-08-08T01:56:27.390905Z",
     "iopub.status.busy": "2025-08-08T01:56:27.390584Z",
     "iopub.status.idle": "2025-08-08T01:56:27.410088Z",
     "shell.execute_reply": "2025-08-08T01:56:27.409138Z",
     "shell.execute_reply.started": "2025-08-08T01:56:27.390880Z"
    },
    "trusted": true
   },
   "outputs": [
    {
     "name": "stdout",
     "output_type": "stream",
     "text": [
      "Gerard Ben Arous, Cedric Gerbelot\n"
     ]
    }
   ],
   "source": [
    "print(strip_accents(\"Gérard Ben Arous, Cédric Gerbelot\"))"
   ]
  },
  {
   "cell_type": "code",
   "execution_count": null,
   "metadata": {
    "execution": {
     "execution_failed": "2025-08-08T01:56:45.497Z",
     "iopub.execute_input": "2025-08-08T01:56:27.411823Z",
     "iopub.status.busy": "2025-08-08T01:56:27.411247Z"
    },
    "trusted": true
   },
   "outputs": [
    {
     "name": "stderr",
     "output_type": "stream",
     "text": [
      "Scraping arXiv metadata:   0%|          | 31/10000 [00:17<1:35:13,  1.74it/s]"
     ]
    }
   ],
   "source": [
    "df_id = pd.read_csv(r'/kaggle/input/sample-ids-2024-arxiv/arxiv_cs_2024_sample_ids.csv')\n",
    "\n",
    "paper_df = scrape_arxiv_metadata_from_df(df=df_id, domain=\"cs\")\n",
    "\n",
    "print(paper_df.head())\n",
    "print(paper_df.info())\n",
    "\n",
    "paper_df.to_csv(r'arxiv_cs_2024_papers.csv', index=False)"
   ]
  }
 ],
 "metadata": {
  "kaggle": {
   "accelerator": "none",
   "dataSources": [],
   "isGpuEnabled": false,
   "isInternetEnabled": true,
   "language": "python",
   "sourceType": "notebook"
  },
  "kernelspec": {
   "display_name": "Python 3",
   "language": "python",
   "name": "python3"
  },
  "language_info": {
   "codemirror_mode": {
    "name": "ipython",
    "version": 3
   },
   "file_extension": ".py",
   "mimetype": "text/x-python",
   "name": "python",
   "nbconvert_exporter": "python",
   "pygments_lexer": "ipython3",
   "version": "3.11.13"
  }
 },
 "nbformat": 4,
 "nbformat_minor": 4
}
